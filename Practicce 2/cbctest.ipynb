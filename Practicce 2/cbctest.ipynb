{
 "cells": [
  {
   "cell_type": "code",
   "execution_count": 1,
   "metadata": {
    "collapsed": true
   },
   "outputs": [
    {
     "name": "stdout",
     "output_type": "stream",
     "text": [
      "newCipher: vdbLhWgHudsUmNkmsfsJ4nIqDW/adXu%2Bf6/yGg2aboyyr%2BUaCuPzIsRaR2X1J1HYQrz76DCzGw/HVVtQBc%2BbDA%3D%3D\n",
      "newiv: rN7nDC068%2BXkqN%2Bg71%2B0kQ%3D%3D\n"
     ]
    }
   ],
   "source": [
    "import base64\n",
    "import urllib.parse\n",
    "\n",
    "# a:2:{s:8:\"userna\n",
    "# me\";s:5:\"admix\";\n",
    "# s:8:\"password\";s\n",
    "# :6:\"123\";}\n",
    "\n",
    "#原始cipher(admix)\n",
    "ciphertext = 'vdbLhWgHudsUmNkmse0J4nIqDW/adXu+f6/yGg2aboyyr+UaCuPzIsRaR2X1J1HYQrz76DCzGw/HVVtQBc+bDA=='\n",
    "\n",
    "cipher = base64.b64decode(urllib.parse.unquote(ciphertext))\n",
    "array_cipher = bytearray(cipher)\n",
    "#cbc attack\n",
    "array_cipher[13] =  array_cipher[13]^ ord('x') ^ ord('n')\n",
    "print('newCipher:',urllib.parse.quote(base64.b64encode(array_cipher)))\n",
    "\n",
    "#解密後的明文(亂碼+admin)base64\n",
    "decode_plain = base64.b64decode('3ewoCAbMjAoZbRicERidJW1lIjtzOjU6ImFkbWluIjtzOjg6InBhc3N3b3JkIjtzOjM6IjEyMyI7fQ==')\n",
    "#原始iv\n",
    "iv = base64.b64decode(urllib.parse.unquote('EAj9PlCFRdfH57JPmzVH1Q=='))\n",
    "#原始明文\n",
    "plain = 'a:2:{s:8:\"userna'\n",
    "\n",
    "newiv = list(iv)\n",
    "\n",
    "for i in range(16):\n",
    "    newiv[i] = (ord(plain[i].encode('utf-8')) ^ iv[i] ^ decode_plain[i])\n",
    "\n",
    "newiv = bytes(newiv)\n",
    "\n",
    "print('newiv:',urllib.parse.quote(base64.b64encode(newiv)))"
   ]
  },
  {
   "cell_type": "code",
   "execution_count": 1,
   "outputs": [],
   "source": [],
   "metadata": {
    "collapsed": false,
    "pycharm": {
     "name": "#%%\n"
    }
   }
  }
 ],
 "metadata": {
  "kernelspec": {
   "display_name": "Python 3",
   "language": "python",
   "name": "python3"
  },
  "language_info": {
   "codemirror_mode": {
    "name": "ipython",
    "version": 2
   },
   "file_extension": ".py",
   "mimetype": "text/x-python",
   "name": "python",
   "nbconvert_exporter": "python",
   "pygments_lexer": "ipython2",
   "version": "2.7.6"
  }
 },
 "nbformat": 4,
 "nbformat_minor": 0
}